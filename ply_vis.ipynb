{
 "cells": [
  {
   "cell_type": "code",
   "execution_count": 6,
   "metadata": {},
   "outputs": [],
   "source": [
    "from open3d import *\n",
    "\n",
    "# visualize the dan\n",
    "cloud = io.read_point_cloud(\"/home/zhenhui/Nerf-Projects/Strivec/log/dan3/rot_tensoRF/0_lvl_2.ply\")\n",
    "visualization.draw_geometries([cloud])  "
   ]
  },
  {
   "cell_type": "code",
   "execution_count": 7,
   "metadata": {},
   "outputs": [],
   "source": [
    "# visualize the chairs\n",
    "\n",
    "cloud = io.read_point_cloud(\"/home/zhenhui/Nerf-Projects/Strivec/log/chair/rot_tensoRF/0_lvl_2.ply\")\n",
    "visualization.draw_geometries([cloud])  \n"
   ]
  },
  {
   "cell_type": "code",
   "execution_count": null,
   "metadata": {},
   "outputs": [],
   "source": []
  },
  {
   "cell_type": "code",
   "execution_count": 6,
   "metadata": {},
   "outputs": [],
   "source": [
    "# visualize the chairs\n",
    "import io\n",
    "from open3d import *\n",
    "\n",
    "cloud = io.read_point_cloud(\"/home/zhenhui/Nerf-Projects/Strivec_4D/preprocessing/point_clouds/rot_tensoRF/105_lvl_2.ply\")\n",
    "visualization.draw_geometries([cloud])  "
   ]
  },
  {
   "cell_type": "code",
   "execution_count": 7,
   "metadata": {},
   "outputs": [],
   "source": [
    "# visualize the chairs\n",
    "import io\n",
    "from open3d import *\n",
    "\n",
    "cloud = io.read_point_cloud(\"/home/zhenhui/Nerf-Projects/Strivec_4D/log/dancer_flashkick/rot_tensoRF/0_lvl_2.ply\")\n",
    "visualization.draw_geometries([cloud])  "
   ]
  }
 ],
 "metadata": {
  "kernelspec": {
   "display_name": "tensor4d",
   "language": "python",
   "name": "python3"
  },
  "language_info": {
   "codemirror_mode": {
    "name": "ipython",
    "version": 3
   },
   "file_extension": ".py",
   "mimetype": "text/x-python",
   "name": "python",
   "nbconvert_exporter": "python",
   "pygments_lexer": "ipython3",
   "version": "3.8.17"
  },
  "orig_nbformat": 4
 },
 "nbformat": 4,
 "nbformat_minor": 2
}
